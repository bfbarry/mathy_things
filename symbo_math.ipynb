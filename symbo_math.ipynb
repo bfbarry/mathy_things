{
 "cells": [
  {
   "cell_type": "markdown",
   "id": "101dcfb3-a8b7-44d1-a636-7b4ca06588e0",
   "metadata": {},
   "source": [
    "# can computer solve operations symbolically instead of digitally?\n",
    "\n",
    "### emulating binary operations:"
   ]
  },
  {
   "cell_type": "code",
   "execution_count": null,
   "id": "8ec7eb29-5653-4151-937c-aece123ddef2",
   "metadata": {},
   "outputs": [],
   "source": []
  },
  {
   "cell_type": "markdown",
   "id": "464adbf2-664c-4135-936a-bff01e7607a8",
   "metadata": {},
   "source": [
    "### emulating symbolic operations\n",
    "\n",
    "best way to logically implement bases?\n",
    "- we calculate things based off addition of the 10 digits essentially\n",
    "    - as well as mathematical rules (e.g., commutative property)\n",
    "- relationship to combinatorics"
   ]
  },
  {
   "cell_type": "markdown",
   "id": "34a8a086-08a5-4efc-a68f-98e091e32308",
   "metadata": {},
   "source": [
    "01 10\n",
    "\n",
    "11\n",
    " 1\n",
    "\n",
    "1 10 11 100"
   ]
  },
  {
   "cell_type": "code",
   "execution_count": 8,
   "id": "34c592b5-f4fb-4ff7-91df-1a7df73cd348",
   "metadata": {},
   "outputs": [
    {
     "data": {
      "text/plain": [
       "'0b11000011010100000'"
      ]
     },
     "execution_count": 8,
     "metadata": {},
     "output_type": "execute_result"
    }
   ],
   "source": [
    "bin(100000)"
   ]
  },
  {
   "cell_type": "code",
   "execution_count": 1,
   "id": "4003a1a4-f762-4c0f-b3de-0efd77038678",
   "metadata": {},
   "outputs": [
    {
     "ename": "TypeError",
     "evalue": "unhashable type: 'set'",
     "output_type": "error",
     "traceback": [
      "\u001b[0;31m---------------------------------------------------------------------------\u001b[0m",
      "\u001b[0;31mTypeError\u001b[0m                                 Traceback (most recent call last)",
      "\u001b[0;32m/var/folders/xc/7yy4pnhj7vs66gsxgymx9ffr0000gn/T/ipykernel_41062/1871474223.py\u001b[0m in \u001b[0;36m<module>\u001b[0;34m\u001b[0m\n\u001b[0;32m----> 1\u001b[0;31m \u001b[0;34m{\u001b[0m\u001b[0;34m{\u001b[0m\u001b[0;36m3\u001b[0m\u001b[0;34m,\u001b[0m\u001b[0;36m4\u001b[0m\u001b[0;34m}\u001b[0m\u001b[0;34m:\u001b[0m\u001b[0;36m2\u001b[0m\u001b[0;34m}\u001b[0m\u001b[0;34m\u001b[0m\u001b[0;34m\u001b[0m\u001b[0m\n\u001b[0m",
      "\u001b[0;31mTypeError\u001b[0m: unhashable type: 'set'"
     ]
    }
   ],
   "source": [
    "RULES = { # these tuples should be unordered theoretically\n",
    "    ('0', 'N') : 'N', # identity property (placeholder)\n",
    "    ('1', '1') : '2',\n",
    "    ('1', '2') : '3',\n",
    "    ('1', '3') : '4',\n",
    "    ('1', '4') : '5',\n",
    "    ('1', '5') : '6',\n",
    "    ('1', '6') : '7',\n",
    "    ('1', '7') : '8',\n",
    "    ('1', '8') : '9',\n",
    "    ('1', '9') : '10',\n",
    "}\n",
    "\n",
    "def logical_add(a, b):\n",
    "    \"\"\"For now order of a and b matters for RULES table\"\"\"\n",
    "    combo = (a, b)\n",
    "    if a == '0':\n",
    "        return b\n",
    "    return RULES[(a,b)]\n",
    "        \n",
    "\n",
    "        "
   ]
  },
  {
   "cell_type": "code",
   "execution_count": null,
   "id": "2bf872c1-ae97-452d-aed2-7214f5f0199a",
   "metadata": {},
   "outputs": [],
   "source": []
  }
 ],
 "metadata": {
  "kernelspec": {
   "display_name": "Python 3 (ipykernel)",
   "language": "python",
   "name": "python3"
  },
  "language_info": {
   "codemirror_mode": {
    "name": "ipython",
    "version": 3
   },
   "file_extension": ".py",
   "mimetype": "text/x-python",
   "name": "python",
   "nbconvert_exporter": "python",
   "pygments_lexer": "ipython3",
   "version": "3.9.7"
  }
 },
 "nbformat": 4,
 "nbformat_minor": 5
}
