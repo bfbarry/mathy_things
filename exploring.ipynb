{
 "cells": [
  {
   "cell_type": "code",
   "execution_count": 3,
   "metadata": {},
   "outputs": [],
   "source": [
    "import numpy as np\n",
    "import numpy as np\n",
    "import matplotlib.pyplot  as plt"
   ]
  },
  {
   "cell_type": "code",
   "execution_count": 4,
   "metadata": {},
   "outputs": [
    {
     "data": {
      "text/plain": [
       "<function matplotlib.pyplot.show(*args, **kw)>"
      ]
     },
     "execution_count": 4,
     "metadata": {},
     "output_type": "execute_result"
    },
    {
     "data": {
      "image/png": "[encoded data removed]",
      "text/plain": [
       "<Figure size 432x288 with 1 Axes>"
      ]
     },
     "metadata": {
      "needs_background": "light"
     },
     "output_type": "display_data"
    }
   ],
   "source": [
    "import numpy as np\n",
    "import matplotlib.pyplot as plt\n",
    "\n",
    "a = np.arange(26)\n",
    "pairs = []\n",
    "for i in a:\n",
    "\n",
    "    odd = [i]*2\n",
    "    \n",
    "    even = [0] *2\n",
    "    even[0] = i; even[1] = i+1\n",
    "    \n",
    "    pairs.append(odd); pairs.append(even)\n",
    "    \n",
    "lizzo2 = []\n",
    "for i in pairs:\n",
    "    liz2 = []\n",
    "    liz2.append(i[0] * i[1])\n",
    "    liz2.append(i[0] + i[1])\n",
    "    lizzo2.append(liz2)\n",
    "    \n",
    "# [0,0] [0,1] [1,1] [1,2] [2,2] [2,3] [3,3] []    \n",
    "# [0,0] [1,2] \n",
    "\n",
    "plt.scatter(np.array(lizzo2).T[:][0], np.array(lizzo2).T[:][0])\n",
    "plt.show"
   ]
  },
  {
   "cell_type": "code",
   "execution_count": null,
   "metadata": {},
   "outputs": [],
   "source": []
  }
 ],
 "metadata": {
  "kernelspec": {
   "display_name": "Python 3",
   "language": "python",
   "name": "python3"
  },
  "language_info": {
   "codemirror_mode": {
    "name": "ipython",
    "version": 3
   },
   "file_extension": ".py",
   "mimetype": "text/x-python",
   "name": "python",
   "nbconvert_exporter": "python",
   "pygments_lexer": "ipython3",
   "version": "3.7.4"
  }
 },
 "nbformat": 4,
 "nbformat_minor": 2
}
