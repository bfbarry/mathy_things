{
 "cells": [
  {
   "cell_type": "markdown",
   "metadata": {},
   "source": [
    "What pattern is there in describing adj matrices of certain graph types (tree, cyclic, etc)\n",
    "- group theory with symmetries\n",
    "- PCA e spec!!!\n",
    "- a lot of convergence of math subjects here!\n",
    "- relation to lambda calculus, and again union find!\n",
    "\n",
    "\n",
    "## TODO\n",
    "- use networkx/js for visual help\n",
    "- make functions to create many random graphs of that type\n",
    "    - **should have functional relationship to function that defines how to even construct such a graph!**\n",
    "        - creation of this function is nontrivial to begin with\n",
    "        - how to describe in terms of lambda calc?\n",
    "    - defining things with while loops vs recursion\n",
    "\n"
   ]
  },
  {
   "cell_type": "code",
   "execution_count": 1,
   "metadata": {},
   "outputs": [],
   "source": [
    "import numpy as np"
   ]
  },
  {
   "cell_type": "code",
   "execution_count": null,
   "metadata": {},
   "outputs": [],
   "source": [
    "def  make_random_tree():\n",
    "    "
   ]
  }
 ],
 "metadata": {
  "kernelspec": {
   "display_name": "Python 3 (ipykernel)",
   "language": "python",
   "name": "python3"
  },
  "language_info": {
   "codemirror_mode": {
    "name": "ipython",
    "version": 3
   },
   "file_extension": ".py",
   "mimetype": "text/x-python",
   "name": "python",
   "nbconvert_exporter": "python",
   "pygments_lexer": "ipython3",
   "version": "3.9.12"
  },
  "vscode": {
   "interpreter": {
    "hash": "505110584122c69bec0732f0d8c9b4034daf1873e3f99e0c4c0fb87fb7c3087a"
   }
  }
 },
 "nbformat": 4,
 "nbformat_minor": 4
}
