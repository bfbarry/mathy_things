{
 "cells": [
  {
   "cell_type": "markdown",
   "id": "a5601716-8f73-423c-b6d6-01d0296b03fe",
   "metadata": {},
   "source": [
    "# Solving glass cracking\n",
    "\n",
    "- assume molecular structure graph\n",
    "- apply a radial manifold\n",
    "- \n",
    "\n",
    "## Deeper math\n",
    "- what really is a guassian manifold? Distribution of samplings (combinatorics -> ergodicity)\n",
    "\n",
    "## TODO\n",
    "- connect this to spin glasses"
   ]
  },
  {
   "cell_type": "code",
   "execution_count": null,
   "id": "048fc900-77f0-47e4-ba6f-0950d71dff01",
   "metadata": {},
   "outputs": [],
   "source": []
  }
 ],
 "metadata": {
  "kernelspec": {
   "display_name": "Python 3 (ipykernel)",
   "language": "python",
   "name": "python3"
  },
  "language_info": {
   "codemirror_mode": {
    "name": "ipython",
    "version": 3
   },
   "file_extension": ".py",
   "mimetype": "text/x-python",
   "name": "python",
   "nbconvert_exporter": "python",
   "pygments_lexer": "ipython3",
   "version": "3.9.12"
  }
 },
 "nbformat": 4,
 "nbformat_minor": 5
}
