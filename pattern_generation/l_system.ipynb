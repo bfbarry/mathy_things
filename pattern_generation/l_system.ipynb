{
 "cells": [
  {
   "cell_type": "code",
   "execution_count": 2,
   "metadata": {
    "execution": {
     "iopub.execute_input": "2021-10-16T06:20:35.683547Z",
     "iopub.status.busy": "2021-10-16T06:20:35.683025Z",
     "iopub.status.idle": "2021-10-16T06:20:37.393077Z",
     "shell.execute_reply": "2021-10-16T06:20:37.391656Z",
     "shell.execute_reply.started": "2021-10-16T06:20:35.683481Z"
    }
   },
   "outputs": [],
   "source": [
    "import numpy as np\n",
    "import matplotlib.pyplot as plt\n",
    "import math"
   ]
  },
  {
   "cell_type": "code",
   "execution_count": 102,
   "metadata": {
    "execution": {
     "iopub.execute_input": "2021-10-17T19:12:48.811873Z",
     "iopub.status.busy": "2021-10-17T19:12:48.811363Z",
     "iopub.status.idle": "2021-10-17T19:12:48.831050Z",
     "shell.execute_reply": "2021-10-17T19:12:48.829139Z",
     "shell.execute_reply.started": "2021-10-17T19:12:48.811808Z"
    }
   },
   "outputs": [
    {
     "data": {
      "text/plain": [
       "'FFFF+[[FF+[[F+[[X]-X]-F[-FX]+X]-F+[[X]-X]-F[-FX]+X]-FF[-FFF+[[X]-X]-F[-FX]+X]+F+[[X]-X]-F[-FX]+X]-FF+[[F+[[X]-X]-F[-FX]+X]-F+[[X]-X]-F[-FX]+X]-FF[-FFF+[[X]-X]-F[-FX]+X]+F+[[X]-X]-F[-FX]+X]-FFFF[-FFFFFF+[[F+[[X]-X]-F[-FX]+X]-F+[[X]-X]-F[-FX]+X]-FF[-FFF+[[X]-X]-F[-FX]+X]+F+[[X]-X]-F[-FX]+X]+FF+[[F+[[X]-X]-F[-FX]+X]-F+[[X]-X]-F[-FX]+X]-FF[-FFF+[[X]-X]-F[-FX]+X]+F+[[X]-X]-F[-FX]+X'"
      ]
     },
     "execution_count": 102,
     "metadata": {},
     "output_type": "execute_result"
    }
   ],
   "source": [
    "def l_system(n,consts=('[',']'), axiom='0',rules= {'1':'11', '0':'1[0]0'}):\n",
    "    \"\"\"\n",
    "    n: number of recursions\n",
    "    consts: nonreplaceable elements a.k.a terminals\n",
    "    axiom: initial condition\n",
    "    rules: hash table for evolution of state\n",
    "    \n",
    "    defaults: fractal binary tree\n",
    "    \"\"\"\n",
    "    s = axiom\n",
    "#     def recursion(n):\n",
    "#         if n == 1:\n",
    "#             return \n",
    "#         else:\n",
    "#             return \n",
    "\n",
    "    for i in range(n):\n",
    "        new_s = \"\"\n",
    "        for ix, e in enumerate(s):\n",
    "            if e in consts:\n",
    "                new_s += e\n",
    "                continue\n",
    "            else:\n",
    "                e = rules[e]\n",
    "                new_s += e\n",
    "        s = new_s\n",
    "    return s"
   ]
  },
  {
   "cell_type": "code",
   "execution_count": 104,
   "metadata": {
    "execution": {
     "iopub.execute_input": "2021-10-17T19:17:30.548242Z",
     "iopub.status.busy": "2021-10-17T19:17:30.547716Z",
     "iopub.status.idle": "2021-10-17T19:17:31.058341Z",
     "shell.execute_reply": "2021-10-17T19:17:31.056458Z",
     "shell.execute_reply.started": "2021-10-17T19:17:30.548173Z"
    }
   },
   "outputs": [
    {
     "data": {
      "image/png": "[encoded data removed]",
      "text/plain": [
       "<Figure size 432x288 with 1 Axes>"
      ]
     },
     "metadata": {},
     "output_type": "display_data"
    }
   ],
   "source": [
    "import numpy as np\n",
    "import networkx as nx\n",
    "import matplotlib.pyplot as plt\n",
    "\n",
    "seq = l_system(n=3)\n",
    "\n",
    "\n",
    "def seq2graph(seq, draw_rules):\n",
    "    \"\"\"\n",
    "    Draw L-system graph, usually following some draw-push-pop procedure\n",
    "        seq: L-system string\n",
    "        draw_rules: symbols for drawing an edge, typically as part of a leaf or branch\n",
    "    \"\"\"\n",
    "    edges = []\n",
    "    i = 0\n",
    "    history = [i] #starting at 0 imitates turtle graphic\n",
    "    forks = [] # save push ('[') points\n",
    "    for ix, r in enumerate(seq): #index, rule\n",
    "        if r in draw_rules:\n",
    "            i+=1\n",
    "            history.append(i)\n",
    "            edges.append(history[-2:])\n",
    "        elif r == '[':\n",
    "            forks.append(i)\n",
    "            continue\n",
    "        elif r == ']':\n",
    "            pop_ix = history.index(forks[-1])\n",
    "            forks.pop()\n",
    "            history = history[:pop_ix+1] # go back to previous checkpoint\n",
    "            continue\n",
    "\n",
    "    return edges\n",
    "    \n",
    "# binary fractal tree\n",
    "seq = l_system(n=3)\n",
    "edges = seq2graph(seq, ('0', '1'))\n",
    "G = nx.Graph(edges)\n",
    "nx.draw(G, node_size=20)"
   ]
  },
  {
   "cell_type": "code",
   "execution_count": 116,
   "metadata": {
    "execution": {
     "iopub.execute_input": "2021-10-17T19:34:08.653627Z",
     "iopub.status.busy": "2021-10-17T19:34:08.652812Z",
     "iopub.status.idle": "2021-10-17T19:34:09.880724Z",
     "shell.execute_reply": "2021-10-17T19:34:09.879163Z",
     "shell.execute_reply.started": "2021-10-17T19:34:08.653542Z"
    }
   },
   "outputs": [],
   "source": [
    "seq = l_system(n=10,axiom='X',consts='+ - [ ]',rules={'X':'F+[[X]-X]-F[-FX]+X','F':'FF'})\n",
    "# print(seq)\n",
    "# edges = seq2graph(seq, ('F'))\n",
    "# G = nx.Graph(edges)\n",
    "# nx.draw(G, node_size=20)"
   ]
  },
  {
   "cell_type": "code",
   "execution_count": 123,
   "metadata": {
    "execution": {
     "iopub.execute_input": "2021-10-17T19:36:14.624824Z",
     "iopub.status.busy": "2021-10-17T19:36:14.624258Z",
     "iopub.status.idle": "2021-10-17T19:36:20.173246Z",
     "shell.execute_reply": "2021-10-17T19:36:20.167971Z",
     "shell.execute_reply.started": "2021-10-17T19:36:14.624752Z"
    }
   },
   "outputs": [
    {
     "data": {
      "image/png": "[encoded data removed]",
      "text/plain": [
       "<Figure size 432x288 with 1 Axes>"
      ]
     },
     "metadata": {
      "needs_background": "light"
     },
     "output_type": "display_data"
    }
   ],
   "source": [
    "f_lens = []\n",
    "count = 0\n",
    "for ix, i in enumerate(seq):\n",
    "    if i == 'F' and seq[ix-1] == 'F':\n",
    "        count+=1\n",
    "    if i != 'F' and seq[ix-1] != 'F':\n",
    "        f_lens.append(count)\n",
    "        count = 0\n",
    "        \n",
    "f_lens = [i for i in f_lens if i != 0]\n",
    "plt.hist(f_lens, bins=15); plt.yscale('log'); plt.show()\n"
   ]
  },
  {
   "cell_type": "code",
   "execution_count": 122,
   "metadata": {
    "execution": {
     "iopub.execute_input": "2021-10-17T19:36:02.722770Z",
     "iopub.status.busy": "2021-10-17T19:36:02.722215Z",
     "iopub.status.idle": "2021-10-17T19:36:02.735425Z",
     "shell.execute_reply": "2021-10-17T19:36:02.733643Z",
     "shell.execute_reply.started": "2021-10-17T19:36:02.722704Z"
    }
   },
   "outputs": [
    {
     "data": {
      "text/plain": [
       "{1, 2, 3, 5, 7, 11, 15, 23, 31, 47, 63, 95, 127, 191, 255, 383, 511, 767}"
      ]
     },
     "execution_count": 122,
     "metadata": {},
     "output_type": "execute_result"
    }
   ],
   "source": [
    "set(f_lens)"
   ]
  },
  {
   "cell_type": "code",
   "execution_count": null,
   "metadata": {},
   "outputs": [],
   "source": []
  }
 ],
 "metadata": {
  "kernelspec": {
   "display_name": "Python 3",
   "language": "python",
   "name": "python3"
  },
  "language_info": {
   "codemirror_mode": {
    "name": "ipython",
    "version": 3
   },
   "file_extension": ".py",
   "mimetype": "text/x-python",
   "name": "python",
   "nbconvert_exporter": "python",
   "pygments_lexer": "ipython3",
   "version": "3.7.4"
  }
 },
 "nbformat": 4,
 "nbformat_minor": 4
}
