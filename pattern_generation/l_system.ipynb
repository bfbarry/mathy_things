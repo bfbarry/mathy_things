{
 "cells": [
  {
   "cell_type": "code",
   "execution_count": 73,
   "metadata": {
    "execution": {
     "iopub.execute_input": "2021-05-15T23:59:57.718412Z",
     "iopub.status.busy": "2021-05-15T23:59:57.717655Z",
     "iopub.status.idle": "2021-05-15T23:59:57.726529Z",
     "shell.execute_reply": "2021-05-15T23:59:57.724662Z",
     "shell.execute_reply.started": "2021-05-15T23:59:57.718340Z"
    }
   },
   "outputs": [],
   "source": [
    "import numpy as np\n",
    "import matplotlib.pyplot as plt\n",
    "import math"
   ]
  },
  {
   "cell_type": "code",
   "execution_count": 68,
   "metadata": {
    "execution": {
     "iopub.execute_input": "2021-05-15T23:54:13.208114Z",
     "iopub.status.busy": "2021-05-15T23:54:13.207271Z",
     "iopub.status.idle": "2021-05-15T23:54:13.233501Z",
     "shell.execute_reply": "2021-05-15T23:54:13.223701Z",
     "shell.execute_reply.started": "2021-05-15T23:54:13.208019Z"
    }
   },
   "outputs": [
    {
     "data": {
      "text/plain": [
       "'FFFF+[[FF+[[F+[[X]-X]-F[-FX]+X]-F+[[X]-X]-F[-FX]+X]-FF[-FFF+[[X]-X]-F[-FX]+X]+F+[[X]-X]-F[-FX]+X]-FF+[[F+[[X]-X]-F[-FX]+X]-F+[[X]-X]-F[-FX]+X]-FF[-FFF+[[X]-X]-F[-FX]+X]+F+[[X]-X]-F[-FX]+X]-FFFF[-FFFFFF+[[F+[[X]-X]-F[-FX]+X]-F+[[X]-X]-F[-FX]+X]-FF[-FFF+[[X]-X]-F[-FX]+X]+F+[[X]-X]-F[-FX]+X]+FF+[[F+[[X]-X]-F[-FX]+X]-F+[[X]-X]-F[-FX]+X]-FF[-FFF+[[X]-X]-F[-FX]+X]+F+[[X]-X]-F[-FX]+X'"
      ]
     },
     "execution_count": 68,
     "metadata": {},
     "output_type": "execute_result"
    }
   ],
   "source": [
    "def l_system(n,consts=('[',']'), axiom='0',rules= {'1':'11', '0':'1[0]0'}):\n",
    "    s = axiom\n",
    "#     def recursion(n):\n",
    "#         if n == 1:\n",
    "#             return \n",
    "#         else:\n",
    "#             return \n",
    "\n",
    "    for i in range(n):\n",
    "        new_s = \"\"\n",
    "        for ix, e in enumerate(s):\n",
    "            if e in consts:\n",
    "                new_s += e\n",
    "                continue\n",
    "            else:\n",
    "                e = rules[e]\n",
    "                new_s += e\n",
    "        s = new_s\n",
    "    return s\n",
    "\n",
    "out = l_system(n=3,axiom='X',consts='+ - [ ]',rules={'X':'F+[[X]-X]-F[-FX]+X','F':'FF'})\n",
    "out"
   ]
  },
  {
   "cell_type": "code",
   "execution_count": 77,
   "metadata": {
    "execution": {
     "iopub.execute_input": "2021-05-16T00:00:25.131528Z",
     "iopub.status.busy": "2021-05-16T00:00:25.131182Z",
     "iopub.status.idle": "2021-05-16T00:00:25.749245Z",
     "shell.execute_reply": "2021-05-16T00:00:25.747383Z",
     "shell.execute_reply.started": "2021-05-16T00:00:25.131490Z"
    }
   },
   "outputs": [
    {
     "data": {
      "image/png": "[encoded data removed]",
      "text/plain": [
       "<Figure size 432x288 with 1 Axes>"
      ]
     },
     "metadata": {
      "needs_background": "light"
     },
     "output_type": "display_data"
    }
   ],
   "source": [
    "line = [(0,0)]\n",
    "angle = '-'\n",
    "x_now, y_now = 0,0\n",
    "for s in out:\n",
    "    if s == 'F' and angle == '-':\n",
    "        x_curr,y_curr = x_now+1, y_now\n",
    "        plt.plot([x_now,x_curr],[y_now,y_curr])\n",
    "        x_now = x_curr\n",
    "    elif s == 'F' and angle == '+':\n",
    "        x_curr,y_curr = x_now, y_now+1\n",
    "        plt.plot([x_now,x_curr],[y_now,y_curr])\n",
    "        y_now = y_curr\n",
    "    else:\n",
    "        angle = s"
   ]
  }
 ],
 "metadata": {
  "kernelspec": {
   "display_name": "Python 3",
   "language": "python",
   "name": "python3"
  },
  "language_info": {
   "codemirror_mode": {
    "name": "ipython",
    "version": 3
   },
   "file_extension": ".py",
   "mimetype": "text/x-python",
   "name": "python",
   "nbconvert_exporter": "python",
   "pygments_lexer": "ipython3",
   "version": "3.7.4"
  }
 },
 "nbformat": 4,
 "nbformat_minor": 4
}
