{
 "cells": [
  {
   "cell_type": "code",
   "execution_count": 15,
   "metadata": {
    "execution": {
     "iopub.execute_input": "2020-07-09T03:45:48.932581Z",
     "iopub.status.busy": "2020-07-09T03:45:48.931946Z",
     "iopub.status.idle": "2020-07-09T03:45:54.256602Z",
     "shell.execute_reply": "2020-07-09T03:45:54.255029Z",
     "shell.execute_reply.started": "2020-07-09T03:45:48.932352Z"
    }
   },
   "outputs": [],
   "source": [
    "import numpy as np\n",
    "import random\n",
    "import pandas as pd\n",
    "import networkx as nx\n",
    "import matplotlib.pyplot as plt\n",
    "import time\n",
    "import os\n",
    "from IPython.display import clear_output"
   ]
  },
  {
   "cell_type": "markdown",
   "metadata": {},
   "source": [
    "Really don't know where I was going with this.  looking at zipfian distributed numbers."
   ]
  },
  {
   "cell_type": "code",
   "execution_count": null,
   "metadata": {},
   "outputs": [],
   "source": [
    "def zipfian_degree_distr(size):\n",
    "    degrees = list(range(1,size+1))\n",
    "    for i in range(size):\n",
    "        random.choice([1,0,0,0,0,0,0,0])"
   ]
  },
  {
   "cell_type": "code",
   "execution_count": 17,
   "metadata": {
    "execution": {
     "iopub.execute_input": "2020-07-09T03:47:47.417146Z",
     "iopub.status.busy": "2020-07-09T03:47:47.416488Z",
     "iopub.status.idle": "2020-07-09T03:47:47.467893Z",
     "shell.execute_reply": "2020-07-09T03:47:47.437386Z",
     "shell.execute_reply.started": "2020-07-09T03:47:47.417046Z"
    }
   },
   "outputs": [],
   "source": [
    "#so if input is 10, there will be ten 10's, five 2's .... one 10 etc \n",
    "def zipf_count(size):\n",
    "    freq = []\n",
    "    for i in range(1,size+1):\n",
    "        freq.append(size * (1/i))\n",
    "    return freq\n",
    "\n",
    "sum_of_pink_degrees = [sum(zipf_count(i)) for i in range(1,26)]\n",
    "for i in range(1,11):\n",
    "#     print(i)\n",
    "#     print('num: ', sum(zipf_count(i)))\n",
    "    pass\n",
    "    \n",
    "x = [int(i) for i in zipf_count(100)]"
   ]
  },
  {
   "cell_type": "code",
   "execution_count": 7,
   "metadata": {
    "execution": {
     "iopub.execute_input": "2020-07-09T03:41:43.251577Z",
     "iopub.status.busy": "2020-07-09T03:41:43.250071Z",
     "iopub.status.idle": "2020-07-09T03:41:43.263660Z",
     "shell.execute_reply": "2020-07-09T03:41:43.261824Z",
     "shell.execute_reply.started": "2020-07-09T03:41:43.251187Z"
    }
   },
   "outputs": [
    {
     "data": {
      "text/plain": [
       "[10, 5, 3, 2, 2, 1, 1, 1, 1, 1]"
      ]
     },
     "execution_count": 7,
     "metadata": {},
     "output_type": "execute_result"
    }
   ],
   "source": [
    "x"
   ]
  },
  {
   "cell_type": "code",
   "execution_count": null,
   "metadata": {},
   "outputs": [],
   "source": [
    "plt.plot(range(25), sum_of_pink_degrees)"
   ]
  },
  {
   "cell_type": "code",
   "execution_count": 18,
   "metadata": {
    "execution": {
     "iopub.execute_input": "2020-07-09T03:47:52.026183Z",
     "iopub.status.busy": "2020-07-09T03:47:52.025691Z",
     "iopub.status.idle": "2020-07-09T03:47:52.033629Z",
     "shell.execute_reply": "2020-07-09T03:47:52.031280Z",
     "shell.execute_reply.started": "2020-07-09T03:47:52.025982Z"
    }
   },
   "outputs": [],
   "source": [
    "for_hist = []\n",
    "for i in range(1,101):\n",
    "    for c in range(x[i-1]):\n",
    "        for_hist.append(i)\n",
    "        \n",
    "#this one looked weird.\n",
    "\n",
    "# for_hist = []\n",
    "# for i in x:\n",
    "#     for c in range(i):\n",
    "#         for_hist.append(i)"
   ]
  },
  {
   "cell_type": "code",
   "execution_count": 20,
   "metadata": {
    "execution": {
     "iopub.execute_input": "2020-07-09T03:48:11.858796Z",
     "iopub.status.busy": "2020-07-09T03:48:11.856754Z",
     "iopub.status.idle": "2020-07-09T03:48:12.666881Z",
     "shell.execute_reply": "2020-07-09T03:48:12.664585Z",
     "shell.execute_reply.started": "2020-07-09T03:48:11.858149Z"
    }
   },
   "outputs": [
    {
     "data": {
      "image/png": "[encoded data removed]",
      "text/plain": [
       "<Figure size 432x288 with 1 Axes>"
      ]
     },
     "metadata": {
      "needs_background": "light"
     },
     "output_type": "display_data"
    }
   ],
   "source": [
    "plt.hist(for_hist, bins=100)\n",
    "plt.show()"
   ]
  }
 ],
 "metadata": {
  "kernelspec": {
   "display_name": "Python 3",
   "language": "python",
   "name": "python3"
  },
  "language_info": {
   "codemirror_mode": {
    "name": "ipython",
    "version": 3
   },
   "file_extension": ".py",
   "mimetype": "text/x-python",
   "name": "python",
   "nbconvert_exporter": "python",
   "pygments_lexer": "ipython3",
   "version": "3.7.4"
  }
 },
 "nbformat": 4,
 "nbformat_minor": 4
}
