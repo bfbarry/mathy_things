{
 "cells": [
  {
   "cell_type": "code",
   "execution_count": 6,
   "metadata": {
    "execution": {
     "iopub.execute_input": "2021-07-19T00:34:59.330379Z",
     "iopub.status.busy": "2021-07-19T00:34:59.329913Z",
     "iopub.status.idle": "2021-07-19T00:34:59.338937Z",
     "shell.execute_reply": "2021-07-19T00:34:59.336858Z",
     "shell.execute_reply.started": "2021-07-19T00:34:59.330322Z"
    }
   },
   "outputs": [],
   "source": [
    "import numpy as np\n",
    "import matplotlib.pyplot as plt\n",
    "from matplotlib import colors\n",
    "import matplotlib.image as mpimg\n",
    "from IPython.display import clear_output"
   ]
  },
  {
   "cell_type": "markdown",
   "metadata": {
    "execution": {
     "iopub.execute_input": "2021-01-03T08:13:56.921144Z",
     "iopub.status.busy": "2021-01-03T08:13:56.920204Z",
     "iopub.status.idle": "2021-01-03T08:13:57.039227Z",
     "shell.execute_reply": "2021-01-03T08:13:57.003480Z",
     "shell.execute_reply.started": "2021-01-03T08:13:56.921029Z"
    }
   },
   "source": [
    "How to incorporate time like diff eqs"
   ]
  },
  {
   "cell_type": "markdown",
   "metadata": {},
   "source": [
    "# 1d CA\n",
    "\n",
    "mapping output to a language\n",
    "\n",
    "combo (169,225) is dope +133?"
   ]
  },
  {
   "cell_type": "code",
   "execution_count": 27,
   "metadata": {
    "execution": {
     "iopub.execute_input": "2021-07-19T00:40:47.704255Z",
     "iopub.status.busy": "2021-07-19T00:40:47.703718Z",
     "iopub.status.idle": "2021-07-19T00:40:48.719963Z",
     "shell.execute_reply": "2021-07-19T00:40:48.717696Z",
     "shell.execute_reply.started": "2021-07-19T00:40:47.704184Z"
    }
   },
   "outputs": [
    {
     "data": {
      "image/png": "[encoded data removed]",
      "text/plain": [
       "<Figure size 1440x1440 with 1 Axes>"
      ]
     },
     "metadata": {
      "needs_background": "light"
     },
     "output_type": "display_data"
    }
   ],
   "source": [
    "class CA:\n",
    "    def __init__(self, rule = None):\n",
    "        \"\"\"If rule is list, then randomly changes between those rules\"\"\"\n",
    "        #creating rule table\n",
    "        if type(rule) == int:\n",
    "            self.make_ruleset(rule)\n",
    "        self.rule = rule\n",
    "        #some combos\n",
    "        self.pyramidal_rules = (18,22,26,28,30,50,54,58)\n",
    "        self.cool_rules = (30,75,89,90,145) #not that cool\n",
    "        self.alt = (60,110)\n",
    "        self.alt2 = (24,34,226,252,238)\n",
    "        self.robots = (3,6,9,11,25,107)\n",
    "        \n",
    "        \n",
    "    def make_ruleset(self, _rule):\n",
    "        _rule = bin(_rule)[2:]\n",
    "        while len(_rule) is not 8:\n",
    "            _rule = '0' + _rule\n",
    "        \n",
    "        neighbors = ('111','110','101','100','011','010','001','000')\n",
    "        ruleset = dict.fromkeys(neighbors)\n",
    "        for key, val in zip(neighbors, _rule):\n",
    "            ruleset[key] = val\n",
    "\n",
    "        self.ruleset = ruleset\n",
    "        \n",
    "    def update(self, curr_state):\n",
    "        new_state = [0 for i in range(len(curr_state))]\n",
    "        for i in range(1,len(curr_state) - 2): #avoiding edges\n",
    "            l,c,r = curr_state[i - 1], curr_state[i], curr_state[i + 1]\n",
    "            new_state[i] = int(self.ruleset[f'{l}{c}{r}'])\n",
    "        return new_state\n",
    "\n",
    "    def run(self, lifetime, width = None, t0 = None, plot = True, color='cool'):\n",
    "        grid = [] #really a bunch of 1d state arrays\n",
    "        if t0 is None:\n",
    "            t0 = [0 for i in range(width)]\n",
    "            t0[int(width/2)] = 1\n",
    "\n",
    "        grid.append(t0)\n",
    "        curr = t0\n",
    "        for t in range(lifetime):\n",
    "            if type(self.rule) != int:\n",
    "                self.make_ruleset(np.random.choice(self.rule))\n",
    "            curr = self.update(curr)\n",
    "            grid.append(curr)\n",
    "            \n",
    "        grid = np.array(grid)[250:-10,200:-250 ]\n",
    "        if plot:\n",
    "            plt.imshow(grid,cmap=color)\n",
    "            plt.axis('off')\n",
    "            plt.show()\n",
    "\n",
    "x = CA(rule = (169,225))\n",
    "plt.figure(figsize=[20,20])\n",
    "x.run(400,800, color = colors.ListedColormap(['blue', 'white']))"
   ]
  },
  {
   "cell_type": "code",
   "execution_count": null,
   "metadata": {},
   "outputs": [],
   "source": []
  },
  {
   "cell_type": "code",
   "execution_count": 169,
   "metadata": {
    "execution": {
     "iopub.execute_input": "2021-01-04T05:47:31.513551Z",
     "iopub.status.busy": "2021-01-04T05:47:31.513041Z",
     "iopub.status.idle": "2021-01-04T05:47:58.703276Z",
     "shell.execute_reply": "2021-01-04T05:47:58.701795Z",
     "shell.execute_reply.started": "2021-01-04T05:47:31.513450Z"
    }
   },
   "outputs": [
    {
     "name": "stdin",
     "output_type": "stream",
     "text": [
      " 29 31 37 41 43 47 53 59 61 67 71 73 79 83 89 97 101\n"
     ]
    }
   ],
   "source": [
    "primes = input().split(' ')\n",
    "primes = [int(i) for i in primes]"
   ]
  },
  {
   "cell_type": "markdown",
   "metadata": {},
   "source": [
    "# Ising model from loaded grayscale image"
   ]
  },
  {
   "cell_type": "code",
   "execution_count": 2,
   "metadata": {
    "execution": {
     "iopub.execute_input": "2021-01-07T03:30:01.273397Z",
     "iopub.status.busy": "2021-01-07T03:30:01.272653Z",
     "iopub.status.idle": "2021-01-07T03:30:01.335327Z",
     "shell.execute_reply": "2021-01-07T03:30:01.333637Z",
     "shell.execute_reply.started": "2021-01-07T03:30:01.273078Z"
    }
   },
   "outputs": [],
   "source": [
    "def metropolis_ising(T,runtime,N=None,grid=None):\n",
    "    \"\"\"grid: if you choose to initialize with previous image\"\"\"\n",
    "    J = 1 #strength of interaction (Joules)\n",
    "    k = 1 # Joules per kelvin\n",
    "    if grid is not None:\n",
    "        N = grid.shape[0]\n",
    "    else:\n",
    "        grid = 2*np.random.randint(2, size = (N,N)) - 1 #random initial configuration with 1s and -1s\n",
    "        \n",
    "    for t in range(runtime):\n",
    "        #sum of interactions at each spin site (vectorized!)\n",
    "        interactions = sum([np.roll(grid,shift =(0, 1), axis = 1),\n",
    "                            np.roll(grid,shift =(0, -1), axis = 1),\n",
    "                            np.roll(grid,shift =(1, 0), axis = 0), # have to change axis because unlike MATLAB's circshift, np.roll sees shifts (0,1) == (1,0)\n",
    "                            np.roll(grid,shift =(-1, 0), axis = 0)])\n",
    "        # change in energy of flipping a spin\n",
    "        DeltaE = 2 * J * (grid * interactions) # element wise multiplication\n",
    "        # transition probabilities\n",
    "        p_trans = np.exp(-DeltaE/(k * T)) # according to the Boltzmann distribution\n",
    "        # accepting or rejecting spin flips in one fell swoop!\n",
    "        # assigning uniformly distributed values to each site, then checking if they are less than transition prob or less than 0.1?\n",
    "        transitions = (np.random.random((N,N)) < p_trans ) * (np.random.random((N,N)) < 0.1) * -2 + 1\n",
    "        grid = grid * transitions\n",
    "        plt.figure(figsize=(6,6)) \n",
    "        plt.imshow(grid,cmap='gray')\n",
    "        plt.axis('off')\n",
    "        clear_output(wait=True)\n",
    "        plt.show()"
   ]
  },
  {
   "cell_type": "code",
   "execution_count": 6,
   "metadata": {
    "execution": {
     "iopub.execute_input": "2021-01-07T03:31:00.969198Z",
     "iopub.status.busy": "2021-01-07T03:31:00.968501Z",
     "iopub.status.idle": "2021-01-07T03:31:15.909746Z",
     "shell.execute_reply": "2021-01-07T03:31:15.907916Z",
     "shell.execute_reply.started": "2021-01-07T03:31:00.969072Z"
    }
   },
   "outputs": [
    {
     "data": {
      "image/png": "[encoded data removed]",
      "text/plain": [
       "<Figure size 432x432 with 1 Axes>"
      ]
     },
     "metadata": {
      "needs_background": "light"
     },
     "output_type": "display_data"
    }
   ],
   "source": [
    "x = mpimg.imread('../../a.png')\n",
    "x[x<=.1] = -1\n",
    "x[x>.1]=1\n",
    "x = x[:, :524]\n",
    "x = x[:, :, 0]\n",
    "\n",
    "metropolis_ising(T=1,runtime=100,grid=x)"
   ]
  },
  {
   "cell_type": "code",
   "execution_count": 1,
   "metadata": {
    "execution": {
     "iopub.execute_input": "2021-02-14T19:14:23.319206Z",
     "iopub.status.busy": "2021-02-14T19:14:23.317706Z",
     "iopub.status.idle": "2021-02-14T19:14:23.381945Z",
     "shell.execute_reply": "2021-02-14T19:14:23.370075Z",
     "shell.execute_reply.started": "2021-02-14T19:14:23.318861Z"
    }
   },
   "outputs": [],
   "source": [
    "# from https://rosettacode.org/wiki/Abelian_sandpile_model#Python\n",
    "# this file just simulates the sandpile, no analysis\n",
    "class AbelianSandpile:\n",
    "    def __init__(self, size, ic, snn = False):\n",
    "        \"\"\"\n",
    "        Initialize initial grid size (width) and initial starting amount ic\n",
    "\n",
    "        If snn is True, simulates sandpile as a spiking neural network, only saving a binary representation\n",
    "        of the grid (where threshold is a spike)\n",
    "\n",
    "        if ic is a list, initializes with random initial conditions with parameters:\n",
    "        [%percent of grid initiated, number of grains at each burst, variability in drop size: if 1 all are same size]\n",
    "        \"\"\"\n",
    "        self.size = size\n",
    "        self.grid = np.zeros((size,size), int)\n",
    "\n",
    "        if type(ic) in [list, tuple]: #still have to implement var in drop size\n",
    "            pcnt_on = ic[0]\n",
    "            num_rand = int(size*size*pcnt_on)\n",
    "            self.rand_loc = self.gen_rand_coords(num_rand)\n",
    "            for coord in self.rand_loc:\n",
    "                x, y = coord[0], coord[1]\n",
    "                self.grid[x][y] = ic[1]\n",
    "\n",
    "        else:\n",
    "            i1, i2 = int(size/2 - 1), int(size/2)\n",
    "            self.grid[i1:i2, i1:i2] = ic #so it starts somewhere near the center\n",
    "\n",
    "        self.raster = []\n",
    "        self.snn = snn\n",
    "\n",
    "    def gen_rand_coords(self, num_rand):\n",
    "        \"\"\"helper function to generate random coordinates\"\"\"\n",
    "        rand_loc = []\n",
    "        def recursive_gen():\n",
    "            for i in np.arange(num_rand):\n",
    "                rand_coord = list(np.random.randint(0,self.size,2))\n",
    "                if len(rand_loc) == num_rand:\n",
    "                    break\n",
    "                if rand_coord not in rand_loc:\n",
    "                    rand_loc.append(rand_coord)\n",
    "                else:\n",
    "                    recursive_gen()\n",
    "        recursive_gen()\n",
    "        return rand_loc\n",
    "\n",
    "    def iterate(self, grid, save_evol):\n",
    "        changed = False\n",
    "        for i, row in enumerate(grid):\n",
    "            for j, height in enumerate(row):\n",
    "                if height > 3:\n",
    "                    grid[i,j] -= 4\n",
    "\n",
    "                    if i > 0:\n",
    "                        grid[i - 1, j] += 1\n",
    "                    if i < len(grid)-1:\n",
    "                        grid[i + 1, j] += 1\n",
    "                    if j > 0:\n",
    "                        grid[i, j - 1] += 1\n",
    "                    if j < len(grid)-1:\n",
    "                        grid[i, j + 1] += 1\n",
    "\n",
    "                    changed = True\n",
    "\n",
    "        if self.snn: #maybe this should be in simulate\n",
    "            copy = grid.copy()\n",
    "            copy[copy < 4] = 0\n",
    "            copy[copy >= 4] = 1\n",
    "\n",
    "            self.raster.append(copy.flatten())\n",
    "\n",
    "        elif save_evol and not self.snn:\n",
    "            copy = grid.copy()\n",
    "            self.raster.append(copy)\n",
    "        return grid, changed\n",
    "\n",
    "    def simulate(self, save_evol):\n",
    "        grid = self.grid.copy()\n",
    "        t = 0\n",
    "        while True:\n",
    "            grid, changed = self.iterate(grid, save_evol)\n",
    "            if not changed:\n",
    "                return grid\n",
    "\n",
    "    def run(self, save_evol = False):\n",
    "        \"\"\"save_evol saves each time point.  if snn, does this automatically\"\"\"\n",
    "        if self.snn:\n",
    "            save_evol = True\n",
    "        final_grid = self.simulate(save_evol)\n",
    "        plt.figure(figsize=(12,8))\n",
    "        plt.subplot(1,2,1)\n",
    "        plt.gray()\n",
    "        plt.imshow(self.grid)\n",
    "        plt.subplot(1,2,2)\n",
    "        plt.gray()\n",
    "        plt.imshow(final_grid)\n",
    "        plt.show()\n",
    "\n",
    "        if save_evol or self.snn:\n",
    "            return self.raster\n",
    "        else:\n",
    "            return final_grid"
   ]
  },
  {
   "cell_type": "code",
   "execution_count": 6,
   "metadata": {
    "execution": {
     "iopub.execute_input": "2021-02-14T19:16:16.714241Z",
     "iopub.status.busy": "2021-02-14T19:16:16.713713Z",
     "iopub.status.idle": "2021-02-14T19:16:19.777345Z",
     "shell.execute_reply": "2021-02-14T19:16:19.776120Z",
     "shell.execute_reply.started": "2021-02-14T19:16:16.714019Z"
    }
   },
   "outputs": [
    {
     "data": {
      "image/png": "[encoded data removed]",
      "text/plain": [
       "<Figure size 864x576 with 2 Axes>"
      ]
     },
     "metadata": {
      "needs_background": "light"
     },
     "output_type": "display_data"
    }
   ],
   "source": [
    "sandy = AbelianSandpile(100, 1000)\n",
    "x = sandy.run()"
   ]
  },
  {
   "cell_type": "markdown",
   "metadata": {},
   "source": [
    "# Game of Life\n",
    "<!-- language: python -->\n",
    "\n",
    "```\n",
    "[i-1][j-1]| [i-1][j]| [i-1][j+1]\n",
    "[i] [j+1] | [i] [j] | [i] [j+1]\n",
    "[i+1][j-1]| [i-1][j]| [i+1][j+1]\n",
    "```"
   ]
  },
  {
   "cell_type": "code",
   "execution_count": 25,
   "metadata": {
    "execution": {
     "iopub.execute_input": "2021-02-14T23:18:56.001330Z",
     "iopub.status.busy": "2021-02-14T23:18:56.000482Z",
     "iopub.status.idle": "2021-02-14T23:18:56.016705Z",
     "shell.execute_reply": "2021-02-14T23:18:56.015218Z",
     "shell.execute_reply.started": "2021-02-14T23:18:56.001208Z"
    }
   },
   "outputs": [
    {
     "data": {
      "text/plain": [
       "[[0, 0], [0, 1], [0, -1], [1, 0], [1, 1], [1, -1], [-1, 0], [-1, 1], [-1, -1]]"
      ]
     },
     "execution_count": 25,
     "metadata": {},
     "output_type": "execute_result"
    }
   ],
   "source": [
    "[[r,c] for r in (0,1,-1) for c in (0,1,-1)]"
   ]
  },
  {
   "cell_type": "code",
   "execution_count": 36,
   "metadata": {
    "execution": {
     "iopub.execute_input": "2021-02-14T23:29:16.909911Z",
     "iopub.status.busy": "2021-02-14T23:29:16.908173Z",
     "iopub.status.idle": "2021-02-14T23:29:22.464247Z",
     "shell.execute_reply": "2021-02-14T23:29:22.462814Z",
     "shell.execute_reply.started": "2021-02-14T23:29:16.909304Z"
    }
   },
   "outputs": [
    {
     "data": {
      "image/png": "[encoded data removed]",
      "text/plain": [
       "<Figure size 432x432 with 1 Axes>"
      ]
     },
     "metadata": {
      "needs_background": "light"
     },
     "output_type": "display_data"
    }
   ],
   "source": [
    "def run_life(size, runtime):\n",
    "    grid = np.zeros((size,size), int)\n",
    "    grid[int(size/2)][int(size/2)] = 1\n",
    "    grid[int(size/2)][int(size/2) +1] =1\n",
    "    grid[int(size/2)][int(size/2) + 2] = 1\n",
    "    grid[int(size/2) - 1][int(size/2) +2] =1\n",
    "    grid[int(size/2) -2][int(size/2) +1] =1\n",
    "    grids = []\n",
    "    for t in range(runtime):\n",
    "        updates = []\n",
    "        grids.append(grid)\n",
    "        \n",
    "        #plot\n",
    "        plt.figure(figsize=(6,6)) \n",
    "        plt.imshow(grid,cmap='gray')\n",
    "        plt.axis('off')\n",
    "        clear_output(wait=True)\n",
    "        plt.show()\n",
    "        for i in range(1, size - 1):\n",
    "            for j in range(1, size - 1):\n",
    "                state = grid[i][j]\n",
    "                #try:\n",
    "                neighbors = [grid[i+r][j+c] for r in (0,1,-1) for c in (0,1,-1)][1:] #without the cell itself\n",
    "                if state == 1:\n",
    "                    if sum(neighbors) >= 4:\n",
    "                        new_state = 0\n",
    "                    elif sum(neighbors) <= 1:\n",
    "                        new_state = 0\n",
    "                    else: new_state = 1 # 2,3 case\n",
    "                elif state == 0:\n",
    "                    if sum(neighbors) == 3:\n",
    "                        new_state = 1\n",
    "                    else: new_state = 0\n",
    "                if state != new_state:\n",
    "                    updates.append((i,j,new_state))\n",
    "        for u in updates:\n",
    "            i,j, new = u[0],u[1],u[2]\n",
    "            grid[i][j] = new\n",
    "        \n",
    "run_life(100,25)"
   ]
  },
  {
   "cell_type": "markdown",
   "metadata": {},
   "source": [
    "# Misc stuff\n",
    "\n",
    "I guess trying to implement a cool state machine"
   ]
  },
  {
   "cell_type": "code",
   "execution_count": null,
   "metadata": {
    "execution": {
     "iopub.execute_input": "2021-01-03T08:18:12.928644Z",
     "iopub.status.busy": "2021-01-03T08:18:12.927901Z",
     "iopub.status.idle": "2021-01-03T08:18:12.944642Z",
     "shell.execute_reply": "2021-01-03T08:18:12.941381Z",
     "shell.execute_reply.started": "2021-01-03T08:18:12.928351Z"
    }
   },
   "outputs": [],
   "source": [
    "class Grid(State):\n",
    "    def __init__(self, t0, t):\n",
    "#         self.grid = np.zeros((size, size))\n",
    "#         for n_i, row in enumerate(t0):\n",
    "#             for col in row:\n",
    "#                 if t0\n",
    "        self.grid = t0\n",
    "        self.life_time = t\n",
    "        \n",
    "    def run(self):\n",
    "        run = True\n",
    "        while run:\n",
    "            \n",
    "class State(object):\n",
    "    def __init__(self, state, t0, t):\n",
    "        Grid.__init__(self, t0, t)\n",
    "        self.transition_dict = {\"A\":\"B\",\n",
    "                               \"B\":\"A\"}\n",
    "    def transition(self,state,curr):\n",
    "        return curr_shape(self.transition_dict(curr))\n",
    "    \n",
    "    def curr_shape(self, s):\n",
    "        shape_dict = {\"A\": [['*']], \"B\":[[\"*\", ' ',\"*\"]]}\n",
    "        return shape_dict[s]"
   ]
  },
  {
   "cell_type": "code",
   "execution_count": 178,
   "metadata": {
    "execution": {
     "iopub.execute_input": "2021-01-04T05:50:38.502503Z",
     "iopub.status.busy": "2021-01-04T05:50:38.501403Z",
     "iopub.status.idle": "2021-01-04T05:50:38.518337Z",
     "shell.execute_reply": "2021-01-04T05:50:38.512911Z",
     "shell.execute_reply.started": "2021-01-04T05:50:38.502149Z"
    }
   },
   "outputs": [
    {
     "data": {
      "text/plain": [
       "[29, 31, 37, 41, 43, 47, 53, 59, 61, 67, 71, 73, 79, 83, 89, 97, 101]"
      ]
     },
     "execution_count": 178,
     "metadata": {},
     "output_type": "execute_result"
    }
   ],
   "source": [
    "primes"
   ]
  },
  {
   "cell_type": "code",
   "execution_count": null,
   "metadata": {},
   "outputs": [],
   "source": []
  }
 ],
 "metadata": {
  "kernelspec": {
   "display_name": "Python 3",
   "language": "python",
   "name": "python3"
  },
  "language_info": {
   "codemirror_mode": {
    "name": "ipython",
    "version": 3
   },
   "file_extension": ".py",
   "mimetype": "text/x-python",
   "name": "python",
   "nbconvert_exporter": "python",
   "pygments_lexer": "ipython3",
   "version": "3.7.4"
  }
 },
 "nbformat": 4,
 "nbformat_minor": 4
}
