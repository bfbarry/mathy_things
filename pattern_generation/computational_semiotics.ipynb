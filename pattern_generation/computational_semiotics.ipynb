{
 "cells": [
  {
   "cell_type": "code",
   "execution_count": 40,
   "metadata": {
    "execution": {
     "iopub.execute_input": "2021-07-27T20:12:21.760577Z",
     "iopub.status.busy": "2021-07-27T20:12:21.760021Z",
     "iopub.status.idle": "2021-07-27T20:12:21.832885Z",
     "shell.execute_reply": "2021-07-27T20:12:21.819265Z",
     "shell.execute_reply.started": "2021-07-27T20:12:21.760508Z"
    }
   },
   "outputs": [
    {
     "name": "stdout",
     "output_type": "stream",
     "text": [
      "The autoreload extension is already loaded. To reload it, use:\n",
      "  %reload_ext autoreload\n"
     ]
    }
   ],
   "source": [
    "%load_ext autoreload\n",
    "%autoreload 2\n",
    "import numpy as np\n",
    "import matplotlib.pyplot as plt\n",
    "import sys, os\n",
    "sys.path.append('..')\n",
    "import matplotlib.image as mpimg\n",
    "from utils.ising import metropolis_ising\n",
    "\n",
    "from sklearn.decomposition import PCA\n",
    "from sklearn.datasets import fetch_openml"
   ]
  },
  {
   "cell_type": "code",
   "execution_count": 27,
   "metadata": {
    "execution": {
     "iopub.execute_input": "2021-07-27T19:57:50.493913Z",
     "iopub.status.busy": "2021-07-27T19:57:50.493325Z",
     "iopub.status.idle": "2021-07-27T19:57:50.551250Z",
     "shell.execute_reply": "2021-07-27T19:57:50.539245Z",
     "shell.execute_reply.started": "2021-07-27T19:57:50.493847Z"
    }
   },
   "outputs": [],
   "source": [
    "def change_of_basis(X, W):\n",
    "    \"\"\"\n",
    "    Projects data onto a new basis.\n",
    "\n",
    "    Args:\n",
    "    X (numpy array of floats) : Data matrix each column corresponding to a\n",
    "                                different random variable\n",
    "    W (numpy array of floats) : new orthonormal basis columns correspond to\n",
    "                                basis vectors\n",
    "\n",
    "    Returns:\n",
    "    (numpy array of floats)   : Data matrix expressed in new basis\n",
    "    \"\"\"\n",
    "\n",
    "    Y = np.matmul(X, W)\n",
    "\n",
    "    return Y\n",
    "\n",
    "\n",
    "def get_sample_cov_matrix(X):\n",
    "    \"\"\"\n",
    "    Returns the sample covariance matrix of data X.\n",
    "\n",
    "    Args:\n",
    "    X (numpy array of floats) : Data matrix each column corresponds to a\n",
    "                                different random variable\n",
    "\n",
    "    Returns:\n",
    "    (numpy array of floats)   : Covariance matrix\n",
    "    \"\"\"\n",
    "\n",
    "    X = X - np.mean(X, 0)\n",
    "    cov_matrix = 1 / X.shape[0] * np.matmul(X.T, X)\n",
    "    return cov_matrix\n",
    "\n",
    "\n",
    "def sort_evals_descending(evals, evectors):\n",
    "    \"\"\"\n",
    "    Sorts eigenvalues and eigenvectors in decreasing order. Also aligns first two\n",
    "    eigenvectors to be in first two quadrants (if 2D).\n",
    "\n",
    "    Args:\n",
    "    evals (numpy array of floats)    :   Vector of eigenvalues\n",
    "    evectors (numpy array of floats) :   Corresponding matrix of eigenvectors\n",
    "                                         each column corresponds to a different\n",
    "                                         eigenvalue\n",
    "\n",
    "    Returns:\n",
    "    (numpy array of floats)          : Vector of eigenvalues after sorting\n",
    "    (numpy array of floats)          : Matrix of eigenvectors after sorting\n",
    "    \"\"\"\n",
    "\n",
    "    index = np.flip(np.argsort(evals))\n",
    "    evals = evals[index]\n",
    "    evectors = evectors[:, index]\n",
    "    if evals.shape[0] == 2:\n",
    "        if np.arccos(np.matmul(evectors[:, 0], 1 / np.sqrt(2) * np.array([1, 1]))) > np.pi / 2:\n",
    "            evectors[:, 0] = -evectors[:, 0]\n",
    "        if np.arccos(np.matmul(evectors[:, 1], 1 / np.sqrt(2)*np.array([-1, 1]))) > np.pi / 2:\n",
    "            evectors[:, 1] = -evectors[:, 1]\n",
    "\n",
    "    return evals, evectors\n",
    "\n",
    "\n",
    "def pca_func(X):\n",
    "    \"\"\"\n",
    "    Performs PCA on multivariate data. Eigenvalues are sorted in decreasing order\n",
    "\n",
    "    Args:\n",
    "     X (numpy array of floats) :   Data matrix each column corresponds to a\n",
    "                                   different random variable\n",
    "\n",
    "    Returns:\n",
    "    (numpy array of floats)    : Data projected onto the new basis\n",
    "    (numpy array of floats)    : Vector of eigenvalues\n",
    "    (numpy array of floats)    : Corresponding matrix of eigenvectors\n",
    "\n",
    "    \"\"\"\n",
    "\n",
    "    X = X - np.mean(X, 0)\n",
    "    cov_matrix = get_sample_cov_matrix(X)\n",
    "    evals, evectors = np.linalg.eigh(cov_matrix)\n",
    "    evals, evectors = sort_evals_descending(evals, evectors)\n",
    "    score = change_of_basis(X, evectors)\n",
    "\n",
    "    return score, evectors, evals\n",
    "\n",
    "def reconstruct_data(score, evectors, X_mean, K):\n",
    "    \"\"\"\n",
    "    Reconstruct the data based on the top K components.\n",
    "\n",
    "    Args:\n",
    "    score (numpy array of floats)    : Score matrix\n",
    "    evectors (numpy array of floats) : Matrix of eigenvectors\n",
    "    X_mean (numpy array of floats)   : Vector corresponding to data mean\n",
    "    K (scalar)                       : Number of components to include\n",
    "\n",
    "    Returns:\n",
    "    (numpy array of floats)          : Matrix of reconstructed data\n",
    "    \"\"\"\n",
    "\n",
    "    X_reconstructed =  score[:, :K]@evectors[:, :K].T + X_mean \n",
    "\n",
    "    return X_reconstructed\n",
    "\n",
    "def plot_pca_weights(weights, shape = (28,28)):\n",
    "    \"\"\"\n",
    "    Visualize PCA basis vector weights. Red = positive weights,\n",
    "    blue = negative weights, white = zero weight.\n",
    "\n",
    "    Args:\n",
    "     weights (numpy array of floats) : PCA basis vector\n",
    "    \"\"\"\n",
    "\n",
    "    fig, ax = plt.subplots()\n",
    "    cmap = plt.cm.get_cmap('seismic')\n",
    "    plt.imshow(np.real(np.reshape(weights, shape)), cmap=cmap)\n",
    "    plt.tick_params(axis='both', which='both', bottom=False, top=False,\n",
    "                  labelbottom=False)\n",
    "#     plt.clim(-.15, .15)\n",
    "#     plt.colorbar(ticks=[-.15, -.1, -.05, 0, .05, .1, .15])\n",
    "    ax.set_xticks([])\n",
    "    ax.set_yticks([])\n",
    "    plt.show()"
   ]
  },
  {
   "cell_type": "code",
   "execution_count": 6,
   "metadata": {
    "execution": {
     "iopub.execute_input": "2021-07-27T18:26:49.993048Z",
     "iopub.status.busy": "2021-07-27T18:26:49.992456Z",
     "iopub.status.idle": "2021-07-27T18:27:47.278285Z",
     "shell.execute_reply": "2021-07-27T18:27:47.277492Z",
     "shell.execute_reply.started": "2021-07-27T18:26:49.992970Z"
    }
   },
   "outputs": [],
   "source": [
    "mnist = fetch_openml(name='mnist_784', as_frame = False)\n",
    "X = mnist.data\n",
    "score, evectors, evals = pca(X)"
   ]
  },
  {
   "cell_type": "code",
   "execution_count": 9,
   "metadata": {
    "execution": {
     "iopub.execute_input": "2021-07-27T18:28:53.674560Z",
     "iopub.status.busy": "2021-07-27T18:28:53.674206Z",
     "iopub.status.idle": "2021-07-27T18:28:59.698741Z",
     "shell.execute_reply": "2021-07-27T18:28:59.693861Z",
     "shell.execute_reply.started": "2021-07-27T18:28:53.674522Z"
    }
   },
   "outputs": [],
   "source": [
    "K = 784\n",
    "\n",
    "# Reconstruct the data based on all components\n",
    "X_mean = np.mean(X, 0)\n",
    "X_reconstructed = reconstruct_data(score, evectors, X_mean, K)"
   ]
  },
  {
   "cell_type": "code",
   "execution_count": 17,
   "metadata": {
    "execution": {
     "iopub.execute_input": "2021-07-27T18:55:26.367099Z",
     "iopub.status.busy": "2021-07-27T18:55:26.364055Z",
     "iopub.status.idle": "2021-07-27T18:55:26.727132Z",
     "shell.execute_reply": "2021-07-27T18:55:26.725264Z",
     "shell.execute_reply.started": "2021-07-27T18:55:26.366927Z"
    }
   },
   "outputs": [
    {
     "data": {
      "image/png": "[encoded data removed]",
      "text/plain": [
       "<Figure size 432x288 with 2 Axes>"
      ]
     },
     "metadata": {
      "needs_background": "light"
     },
     "output_type": "display_data"
    }
   ],
   "source": [
    "plot_pca_weights(evectors[:, 15])"
   ]
  },
  {
   "cell_type": "code",
   "execution_count": 28,
   "metadata": {
    "execution": {
     "iopub.execute_input": "2021-07-27T19:57:53.453895Z",
     "iopub.status.busy": "2021-07-27T19:57:53.453062Z",
     "iopub.status.idle": "2021-07-27T19:57:54.831837Z",
     "shell.execute_reply": "2021-07-27T19:57:54.830043Z",
     "shell.execute_reply.started": "2021-07-27T19:57:53.453749Z"
    }
   },
   "outputs": [
    {
     "data": {
      "text/plain": [
       "PCA(n_components=26)"
      ]
     },
     "execution_count": 28,
     "metadata": {},
     "output_type": "execute_result"
    }
   ],
   "source": [
    "def load_alphabet_imgs(dir_='/Users/brianbarry/Desktop/AppsComputing/ALPHA_IMAGES'):\n",
    "    imgs = []\n",
    "    for im in os.listdir(dir_):\n",
    "        x = mpimg.imread(dir_+'/'+im)\n",
    "        x = x[:510,30:540,0] # crop and grayscale \n",
    "        imgs.append(x.flatten())\n",
    "    return np.array(imgs)\n",
    "          \n",
    "alph = load_alphabet_imgs()      \n",
    "pca = PCA(n_components = 26)\n",
    "pca.fit(alph)\n",
    "# alph_score, alph_evectors, alph_evals = pca(alph)"
   ]
  },
  {
   "cell_type": "code",
   "execution_count": 52,
   "metadata": {
    "execution": {
     "iopub.execute_input": "2021-07-27T20:17:24.091548Z",
     "iopub.status.busy": "2021-07-27T20:17:24.089838Z",
     "iopub.status.idle": "2021-07-27T20:17:36.952199Z",
     "shell.execute_reply": "2021-07-27T20:17:36.951178Z",
     "shell.execute_reply.started": "2021-07-27T20:17:24.091473Z"
    }
   },
   "outputs": [
    {
     "data": {
      "text/plain": [
       "([], <a list of 0 Text yticklabel objects>)"
      ]
     },
     "execution_count": 52,
     "metadata": {},
     "output_type": "execute_result"
    },
    {
     "data": {
      "image/png": "[encoded data removed]",
      "text/plain": [
       "<Figure size 432x288 with 2 Axes>"
      ]
     },
     "metadata": {
      "needs_background": "light"
     },
     "output_type": "display_data"
    }
   ],
   "source": [
    "a= alph[0]\n",
    "a[a<=.1] = -1\n",
    "a[a>.1]=1\n",
    "plt.imshow(a.reshape(510,510))\n",
    "noised = metropolis_ising(1.2,runtime=500,N=a.shape[0],grid=a.reshape(510,510))\n",
    "plt.subplot(1,2,1)\n",
    "plt.imshow(a.reshape(510,510), cmap='gray')\n",
    "plt.subplot(1,2,2)\n",
    "plt.imshow(noised, cmap='gray')\n",
    "plt.xticks([]); plt.yticks([])"
   ]
  },
  {
   "cell_type": "code",
   "execution_count": 19,
   "metadata": {
    "execution": {
     "iopub.execute_input": "2021-07-27T19:56:36.881944Z",
     "iopub.status.busy": "2021-07-27T19:56:36.881364Z",
     "iopub.status.idle": "2021-07-27T19:56:36.903321Z",
     "shell.execute_reply": "2021-07-27T19:56:36.901462Z",
     "shell.execute_reply.started": "2021-07-27T19:56:36.881867Z"
    }
   },
   "outputs": [
    {
     "data": {
      "text/plain": [
       "(26, 260100)"
      ]
     },
     "execution_count": 19,
     "metadata": {},
     "output_type": "execute_result"
    }
   ],
   "source": [
    "pca.components_.shape"
   ]
  },
  {
   "cell_type": "code",
   "execution_count": 38,
   "metadata": {
    "execution": {
     "iopub.execute_input": "2021-07-27T20:05:18.309814Z",
     "iopub.status.busy": "2021-07-27T20:05:18.309252Z",
     "iopub.status.idle": "2021-07-27T20:05:18.517959Z",
     "shell.execute_reply": "2021-07-27T20:05:18.516442Z",
     "shell.execute_reply.started": "2021-07-27T20:05:18.309767Z"
    }
   },
   "outputs": [
    {
     "data": {
      "image/png": "[encoded data removed]",
      "text/plain": [
       "<Figure size 432x288 with 1 Axes>"
      ]
     },
     "metadata": {},
     "output_type": "display_data"
    }
   ],
   "source": [
    "plot_pca_weights(pca.components_[12, :], (510,510))"
   ]
  }
 ],
 "metadata": {
  "kernelspec": {
   "display_name": "Python 3",
   "language": "python",
   "name": "python3"
  },
  "language_info": {
   "codemirror_mode": {
    "name": "ipython",
    "version": 3
   },
   "file_extension": ".py",
   "mimetype": "text/x-python",
   "name": "python",
   "nbconvert_exporter": "python",
   "pygments_lexer": "ipython3",
   "version": "3.7.4"
  }
 },
 "nbformat": 4,
 "nbformat_minor": 4
}
