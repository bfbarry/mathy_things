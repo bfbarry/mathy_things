{
 "cells": [
  {
   "cell_type": "code",
   "execution_count": 1,
   "metadata": {
    "execution": {
     "iopub.execute_input": "2020-07-12T23:37:20.897095Z",
     "iopub.status.busy": "2020-07-12T23:37:20.896204Z",
     "iopub.status.idle": "2020-07-12T23:37:23.643176Z",
     "shell.execute_reply": "2020-07-12T23:37:23.641815Z",
     "shell.execute_reply.started": "2020-07-12T23:37:20.896919Z"
    }
   },
   "outputs": [],
   "source": [
    "import numpy as np\n",
    "import matplotlib.pyplot as plt"
   ]
  },
  {
   "cell_type": "markdown",
   "metadata": {},
   "source": [
    "## Critical size for wheat farm\n",
    "\n",
    "So essentially the premise here is determining what size wheat farm you'd need in Minecraft to be continuously self sufficient (meaning at each tick, you get one or more wheat, and the moment the wheat is ripe it is harvested and replanted).  Wheat grows at specific time intervals, so given a large enough farm, there will always be wheat that is ready.  Not all seeds can be planted at the same time, and you are not allowed to wait until all wheat is ripe.  If you do that you will collect all the wheat at once and then will be empty for a certain period.  \n",
    "\n",
    "- This can be done linearly but am interested in what it looks like in 2d (a la ising model)\n",
    "\n",
    "Sub goals:\n",
    "- Compare deterministic (d/dx) and probabilistic crop update models \n",
    "- Compare discrete update with continuous update\n",
    "- Compare efficiency of different models for size, collection time, etc\n",
    "- Compare effects of (modelling agrarian food production on a grand scale, and size of society)\n",
    "- What about oscillating wheat?  Where when you have a ripe wheat, it recedes into seeds. \n",
    "\n",
    "Let's start with a linear model \n",
    "\n",
    "- Question depends on desired rate of incoming crop.  If you want wheat instantly after picking up one, you'd need an infinite amount\n",
    "- So let's say we want one ripe wheat every second \n",
    "- There are 8 stages of growth in [seeds, ripe] let that be list(range(8))\n",
    "- Minecraft actually models growth probabilistically so let's actually assume some rate of change.  \n",
    "- 31 minutes is average time to grow to ripe so let's say 31/7 4.42857143 minute for each stage\n",
    "- For the sake of \n",
    "\n",
    "\n",
    "- For continuous model, let wheat status be determined by height on range [0,1], and so rate of growth is 1/31 per minute.\n"
   ]
  },
  {
   "cell_type": "code",
   "execution_count": 2,
   "metadata": {
    "execution": {
     "iopub.execute_input": "2020-07-13T00:00:01.947311Z",
     "iopub.status.busy": "2020-07-13T00:00:01.946662Z",
     "iopub.status.idle": "2020-07-13T00:00:01.976195Z",
     "shell.execute_reply": "2020-07-13T00:00:01.974443Z",
     "shell.execute_reply.started": "2020-07-13T00:00:01.947230Z"
    }
   },
   "outputs": [
    {
     "name": "stdout",
     "output_type": "stream",
     "text": [
      "[0, 1, 2, 3, 4, 5, 6, 7]\n"
     ]
    }
   ],
   "source": [
    "print(list(range(8)))"
   ]
  },
  {
   "cell_type": "code",
   "execution_count": null,
   "metadata": {},
   "outputs": [],
   "source": []
  }
 ],
 "metadata": {
  "kernelspec": {
   "display_name": "Python 3",
   "language": "python",
   "name": "python3"
  },
  "language_info": {
   "codemirror_mode": {
    "name": "ipython",
    "version": 3
   },
   "file_extension": ".py",
   "mimetype": "text/x-python",
   "name": "python",
   "nbconvert_exporter": "python",
   "pygments_lexer": "ipython3",
   "version": "3.7.4"
  }
 },
 "nbformat": 4,
 "nbformat_minor": 4
}
